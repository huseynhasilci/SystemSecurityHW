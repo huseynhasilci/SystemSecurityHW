{
 "cells": [
  {
   "cell_type": "markdown",
   "id": "b52665f5",
   "metadata": {},
   "source": [
    "**Imports**"
   ]
  },
  {
   "cell_type": "code",
   "execution_count": 10,
   "id": "f710e8af",
   "metadata": {},
   "outputs": [],
   "source": [
    "from Crypto.Cipher import AES\n",
    "from Crypto.Util.Padding import pad, unpad\n",
    "from Crypto import Random\n",
    "import binascii\n",
    "import time"
   ]
  },
  {
   "cell_type": "markdown",
   "id": "8b18edb4",
   "metadata": {},
   "source": [
    "**Inputs**"
   ]
  },
  {
   "cell_type": "code",
   "execution_count": 11,
   "id": "1fb4fe86",
   "metadata": {},
   "outputs": [
    {
     "name": "stdout",
     "output_type": "stream",
     "text": [
      "Initialization Vector = b'496483884558947bd30a040e83a98346'\n"
     ]
    }
   ],
   "source": [
    "file = open(\"C:/Users/murat/Desktop/Info Project/sample-text-1mb.txt\")\n",
    "plaintext_before = file.read()\n",
    "block_size = 16 # 128 bit = 16 bytes, 256 bit = 32 bytes\n",
    "key = pad(b\"MuratFidan\", block_size)\n",
    "iv = Random.new().read(block_size)\n",
    "print(f'Initialization Vector = {binascii.hexlify(iv)}')"
   ]
  },
  {
   "cell_type": "markdown",
   "id": "9804b5fc",
   "metadata": {},
   "source": [
    "**Function for Writing Files**"
   ]
  },
  {
   "cell_type": "code",
   "execution_count": 13,
   "id": "417111e7",
   "metadata": {},
   "outputs": [],
   "source": [
    "def write_to_file(file_path, text):\n",
    "    with open(file_path, 'w') as file:\n",
    "        file.write(text)"
   ]
  },
  {
   "cell_type": "markdown",
   "id": "4b4ab89a",
   "metadata": {},
   "source": [
    "**Encryption**"
   ]
  },
  {
   "cell_type": "code",
   "execution_count": 16,
   "id": "d0b10356",
   "metadata": {},
   "outputs": [],
   "source": [
    "def encryption(plaintext):\n",
    "    start_time = time.time()\n",
    "    data_bytes = bytes(plaintext_before, 'utf-8')\n",
    "    padding_data = pad(data_bytes, block_size)\n",
    "    AES_algorithm = AES.new(key, AES.MODE_CBC, iv)\n",
    "    ciphertext = AES_algorithm.encrypt(padding_data)\n",
    "    end_time = time.time()\n",
    "    print(f'Start Time: {start_time} - End Time: {end_time}\\nTime Elapsed: {end_time-start_time}')\n",
    "    return ciphertext"
   ]
  },
  {
   "cell_type": "code",
   "execution_count": 20,
   "id": "bed8bf1c",
   "metadata": {},
   "outputs": [
    {
     "name": "stdout",
     "output_type": "stream",
     "text": [
      "Start Time: 1652056908.2560349 - End Time: 1652056908.265538\n",
      "Time Elapsed: 0.00950312614440918\n"
     ]
    }
   ],
   "source": [
    "ciphertext = encryption(plaintext_before)\n",
    "write_to_file(\"C:/Users/murat/Desktop/Info Project/encryption-CBC-128.txt\", str(ciphertext))"
   ]
  },
  {
   "cell_type": "markdown",
   "id": "133d3994",
   "metadata": {},
   "source": [
    "**Decryption**"
   ]
  },
  {
   "cell_type": "code",
   "execution_count": 5,
   "id": "e2fb391b",
   "metadata": {},
   "outputs": [],
   "source": [
    "def decryption(ciphertext):\n",
    "    AES_algorithm = AES.new(key, AES.MODE_CBC, iv)\n",
    "    raw_bytes = AES_algorithm.decrypt(ciphertext)\n",
    "    result_bytes = unpad(raw_bytes, block_size)\n",
    "    return result_bytes\n",
    "    "
   ]
  },
  {
   "cell_type": "code",
   "execution_count": 23,
   "id": "5dac9df9",
   "metadata": {},
   "outputs": [],
   "source": [
    "plaintext_after = decryption(ciphertext).decode('ascii')\n",
    "write_to_file(\"C:/Users/murat/Desktop/Info Project/decryption-CBC-128.txt\", plaintext_after)"
   ]
  },
  {
   "cell_type": "markdown",
   "id": "0bdf4a98",
   "metadata": {},
   "source": [
    "**Check Plaintext Difference Between Before and After**"
   ]
  },
  {
   "cell_type": "code",
   "execution_count": 24,
   "id": "a4c2caba",
   "metadata": {},
   "outputs": [
    {
     "name": "stdout",
     "output_type": "stream",
     "text": [
      "True\n"
     ]
    }
   ],
   "source": [
    "print(plaintext_before == plaintext_after)"
   ]
  },
  {
   "cell_type": "code",
   "execution_count": null,
   "id": "1249ea59",
   "metadata": {},
   "outputs": [],
   "source": []
  }
 ],
 "metadata": {
  "kernelspec": {
   "display_name": "Python 3 (ipykernel)",
   "language": "python",
   "name": "python3"
  },
  "language_info": {
   "codemirror_mode": {
    "name": "ipython",
    "version": 3
   },
   "file_extension": ".py",
   "mimetype": "text/x-python",
   "name": "python",
   "nbconvert_exporter": "python",
   "pygments_lexer": "ipython3",
   "version": "3.9.7"
  }
 },
 "nbformat": 4,
 "nbformat_minor": 5
}
