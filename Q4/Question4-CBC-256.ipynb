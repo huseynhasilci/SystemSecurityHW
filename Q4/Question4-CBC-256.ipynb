{
 "cells": [
  {
   "cell_type": "markdown",
   "id": "40523515",
   "metadata": {},
   "source": [
    "**Imports**"
   ]
  },
  {
   "cell_type": "code",
   "execution_count": 2,
   "id": "6dd47568",
   "metadata": {},
   "outputs": [],
   "source": [
    "from Crypto.Cipher import AES\n",
    "from Crypto.Util.Padding import pad, unpad\n",
    "from Crypto import Random\n",
    "import binascii\n",
    "import time"
   ]
  },
  {
   "cell_type": "markdown",
   "id": "d1c8ebc6",
   "metadata": {},
   "source": [
    "**Inputs**"
   ]
  },
  {
   "cell_type": "code",
   "execution_count": 3,
   "id": "ca8b4947",
   "metadata": {},
   "outputs": [],
   "source": [
    "file = open(\"C:/Users/murat/Desktop/Info Project/sample-text-1mb.txt\")\n",
    "plaintext_before = file.read()\n",
    "block_size = 32 # 128 bit = 16 bytes, 256 bit = 32 bytes\n",
    "key = pad(b\"MuratFidan\", block_size)\n",
    "iv = Random.new().read(16)"
   ]
  },
  {
   "cell_type": "markdown",
   "id": "3b84a9e9",
   "metadata": {},
   "source": [
    "**Function for Writing Files**"
   ]
  },
  {
   "cell_type": "code",
   "execution_count": 4,
   "id": "2c55f0ee",
   "metadata": {},
   "outputs": [],
   "source": [
    "def write_to_file(file_path, text):\n",
    "    with open(file_path, 'w') as file:\n",
    "        file.write(text)"
   ]
  },
  {
   "cell_type": "markdown",
   "id": "38d98b4c",
   "metadata": {},
   "source": [
    "**Encryption**"
   ]
  },
  {
   "cell_type": "code",
   "execution_count": 5,
   "id": "f093cdc2",
   "metadata": {},
   "outputs": [],
   "source": [
    "def encryption(plaintext):\n",
    "    start_time = time.time()\n",
    "    data_bytes = bytes(plaintext_before, 'utf-8')\n",
    "    padding_data = pad(data_bytes, block_size)\n",
    "    AES_algorithm = AES.new(key, AES.MODE_CBC, iv)\n",
    "    ciphertext = AES_algorithm.encrypt(padding_data)\n",
    "    end_time = time.time()\n",
    "    print(f'Start Time: {start_time} - End Time: {end_time}\\nTime Elapsed: {end_time-start_time}')\n",
    "    return ciphertext"
   ]
  },
  {
   "cell_type": "code",
   "execution_count": 6,
   "id": "7cedb3b0",
   "metadata": {},
   "outputs": [
    {
     "name": "stdout",
     "output_type": "stream",
     "text": [
      "Start Time: 1652057167.7230163 - End Time: 1652057167.7359738\n",
      "Time Elapsed: 0.012957572937011719\n"
     ]
    }
   ],
   "source": [
    "ciphertext = encryption(plaintext_before)\n",
    "write_to_file(\"C:/Users/murat/Desktop/Info Project/encryption-CBC-256.txt\", str(ciphertext))"
   ]
  },
  {
   "cell_type": "markdown",
   "id": "609061d5",
   "metadata": {},
   "source": [
    "**Decryption**"
   ]
  },
  {
   "cell_type": "code",
   "execution_count": 7,
   "id": "115223c5",
   "metadata": {},
   "outputs": [],
   "source": [
    "def decryption(ciphertext):\n",
    "    AES_algorithm = AES.new(key, AES.MODE_CBC, iv)\n",
    "    raw_bytes = AES_algorithm.decrypt(ciphertext)\n",
    "    result_bytes = unpad(raw_bytes, block_size)\n",
    "    return result_bytes\n",
    "    "
   ]
  },
  {
   "cell_type": "code",
   "execution_count": 8,
   "id": "245ad57e",
   "metadata": {},
   "outputs": [],
   "source": [
    "plaintext_after = decryption(ciphertext).decode('ascii')\n",
    "write_to_file(\"C:/Users/murat/Desktop/Info Project/decryption-CBC-256.txt\", plaintext_after)\n"
   ]
  },
  {
   "cell_type": "markdown",
   "id": "f1e80b50",
   "metadata": {},
   "source": [
    "**Check Plaintext Difference Between Before and After**"
   ]
  },
  {
   "cell_type": "code",
   "execution_count": 9,
   "id": "b34d9e6b",
   "metadata": {},
   "outputs": [
    {
     "name": "stdout",
     "output_type": "stream",
     "text": [
      "True\n"
     ]
    }
   ],
   "source": [
    "print(plaintext_before == plaintext_after)"
   ]
  },
  {
   "cell_type": "code",
   "execution_count": null,
   "id": "ccb86096",
   "metadata": {},
   "outputs": [],
   "source": []
  }
 ],
 "metadata": {
  "kernelspec": {
   "display_name": "Python 3 (ipykernel)",
   "language": "python",
   "name": "python3"
  },
  "language_info": {
   "codemirror_mode": {
    "name": "ipython",
    "version": 3
   },
   "file_extension": ".py",
   "mimetype": "text/x-python",
   "name": "python",
   "nbconvert_exporter": "python",
   "pygments_lexer": "ipython3",
   "version": "3.9.7"
  }
 },
 "nbformat": 4,
 "nbformat_minor": 5
}
