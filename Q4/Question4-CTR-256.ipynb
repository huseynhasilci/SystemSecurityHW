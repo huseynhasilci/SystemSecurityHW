{
 "cells": [
  {
   "cell_type": "markdown",
   "id": "42aaaae8",
   "metadata": {},
   "source": [
    "**Imports**"
   ]
  },
  {
   "cell_type": "code",
   "execution_count": 2,
   "id": "bf076025",
   "metadata": {},
   "outputs": [],
   "source": [
    "from Crypto.Cipher import AES\n",
    "from Crypto.Util.Padding import pad, unpad\n",
    "from Crypto import Random\n",
    "import binascii\n",
    "import time"
   ]
  },
  {
   "cell_type": "markdown",
   "id": "7a746e10",
   "metadata": {},
   "source": [
    "**Inputs**"
   ]
  },
  {
   "cell_type": "code",
   "execution_count": 3,
   "id": "f78536b6",
   "metadata": {},
   "outputs": [],
   "source": [
    "file = open(\"C:/Users/murat/Desktop/Info Project/sample-text-1mb.txt\")\n",
    "plaintext_before = file.read()\n",
    "block_size = 32 # 128 bit = 16 bytes, 256 bit = 32 bytes\n",
    "key = pad(b\"MuratFidan\", block_size)\n",
    "iv = Random.new().read(16)"
   ]
  },
  {
   "cell_type": "markdown",
   "id": "ca6797ca",
   "metadata": {},
   "source": [
    "**Function for Writing Files**"
   ]
  },
  {
   "cell_type": "code",
   "execution_count": 4,
   "id": "b08d10a3",
   "metadata": {},
   "outputs": [],
   "source": [
    "def write_to_file(file_path, text):\n",
    "    with open(file_path, 'w') as file:\n",
    "        file.write(text)"
   ]
  },
  {
   "cell_type": "markdown",
   "id": "53f2a48d",
   "metadata": {},
   "source": [
    "**Encryption**"
   ]
  },
  {
   "cell_type": "code",
   "execution_count": 5,
   "id": "d784fa5d",
   "metadata": {},
   "outputs": [],
   "source": [
    "def encryption(plaintext):\n",
    "    start_time = time.time()\n",
    "    data_bytes = bytes(plaintext_before, 'utf-8')\n",
    "    AES_algorithm = AES.new(key, AES.MODE_CTR)\n",
    "    ciphertext = AES_algorithm.encrypt(data_bytes)\n",
    "    end_time = time.time()\n",
    "    print(f'Start Time: {start_time} - End Time: {end_time}\\nTime Elapsed: {end_time-start_time}')\n",
    "    return ciphertext, AES_algorithm.nonce"
   ]
  },
  {
   "cell_type": "code",
   "execution_count": 6,
   "id": "c3367436",
   "metadata": {},
   "outputs": [
    {
     "name": "stdout",
     "output_type": "stream",
     "text": [
      "Start Time: 1652057352.7539258 - End Time: 1652057352.7599473\n",
      "Time Elapsed: 0.0060214996337890625\n"
     ]
    }
   ],
   "source": [
    "ciphertext, nonce = encryption(plaintext_before)\n",
    "write_to_file(\"C:/Users/murat/Desktop/Info Project/encryption-CTR-256.txt\", str(ciphertext))"
   ]
  },
  {
   "cell_type": "markdown",
   "id": "db03a648",
   "metadata": {},
   "source": [
    "**Decryption**"
   ]
  },
  {
   "cell_type": "code",
   "execution_count": 7,
   "id": "74a82aea",
   "metadata": {},
   "outputs": [],
   "source": [
    "def decryption(ciphertext, nonce):\n",
    "    AES_algorithm = AES.new(key, AES.MODE_CTR, nonce=nonce)\n",
    "    raw_bytes = AES_algorithm.decrypt(ciphertext)\n",
    "    return raw_bytes\n",
    "    "
   ]
  },
  {
   "cell_type": "code",
   "execution_count": 8,
   "id": "554aab32",
   "metadata": {},
   "outputs": [],
   "source": [
    "plaintext_after = decryption(ciphertext, nonce).decode('ascii')\n",
    "write_to_file(\"C:/Users/murat/Desktop/Info Project/decryption-CTR-256.txt\", plaintext_after)\n"
   ]
  },
  {
   "cell_type": "markdown",
   "id": "0d75f834",
   "metadata": {},
   "source": [
    "**Check Plaintext Difference Between Before and After**"
   ]
  },
  {
   "cell_type": "code",
   "execution_count": 9,
   "id": "35db9aa6",
   "metadata": {},
   "outputs": [
    {
     "name": "stdout",
     "output_type": "stream",
     "text": [
      "True\n"
     ]
    }
   ],
   "source": [
    "print(plaintext_before == plaintext_after)"
   ]
  },
  {
   "cell_type": "code",
   "execution_count": null,
   "id": "1bcd791a",
   "metadata": {},
   "outputs": [],
   "source": []
  }
 ],
 "metadata": {
  "kernelspec": {
   "display_name": "Python 3 (ipykernel)",
   "language": "python",
   "name": "python3"
  },
  "language_info": {
   "codemirror_mode": {
    "name": "ipython",
    "version": 3
   },
   "file_extension": ".py",
   "mimetype": "text/x-python",
   "name": "python",
   "nbconvert_exporter": "python",
   "pygments_lexer": "ipython3",
   "version": "3.9.7"
  }
 },
 "nbformat": 4,
 "nbformat_minor": 5
}
