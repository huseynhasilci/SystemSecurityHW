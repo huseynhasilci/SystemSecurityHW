{
 "cells": [
  {
   "cell_type": "markdown",
   "id": "9525313b",
   "metadata": {},
   "source": [
    "**Imports**"
   ]
  },
  {
   "cell_type": "code",
   "execution_count": 34,
   "id": "b73b569d",
   "metadata": {},
   "outputs": [],
   "source": [
    "import hmac\n",
    "import hashlib\n",
    "import os\n",
    "import base64"
   ]
  },
  {
   "cell_type": "markdown",
   "id": "438efb63",
   "metadata": {},
   "source": [
    "**Generate Symmetric Keys**"
   ]
  },
  {
   "cell_type": "code",
   "execution_count": 35,
   "id": "617c3765",
   "metadata": {},
   "outputs": [],
   "source": [
    "def generate_symmetric_key(key_size):\n",
    "    secret_key = os.urandom(key_size)\n",
    "    encoded_secret_key = base64.b64encode(secret_key)\n",
    "    return encoded_secret_key "
   ]
  },
  {
   "cell_type": "markdown",
   "id": "9056185a",
   "metadata": {},
   "source": [
    "**Inputs**"
   ]
  },
  {
   "cell_type": "code",
   "execution_count": 36,
   "id": "38d7de4e",
   "metadata": {},
   "outputs": [
    {
     "name": "stdout",
     "output_type": "stream",
     "text": [
      "Key1 -> b'BynrIY7TsAIDYuKlzmZvZkht0Vc9azNO'\n",
      "Key2 -> b'3zsEczn5aE9Sg66vpqw25OHrCcCa28Fq'\n"
     ]
    }
   ],
   "source": [
    "message=\"InformationSystemSecurityHomework1Question5\"\n",
    "key_1 = generate_symmetric_key(24) # return 32 bytes(256 bits) symmetric key\n",
    "key_2 = generate_symmetric_key(24) # return 32 bytes(256 bits) symmetric key\n",
    "print(f'Key1 -> {key_1}\\nKey2 -> {key_2}')"
   ]
  },
  {
   "cell_type": "markdown",
   "id": "0c5ba4b4",
   "metadata": {},
   "source": [
    "**Generate Message Authentication Code(HMAC-SHA256)**"
   ]
  },
  {
   "cell_type": "code",
   "execution_count": 37,
   "id": "506f8b6e",
   "metadata": {},
   "outputs": [
    {
     "name": "stdout",
     "output_type": "stream",
     "text": [
      "1c842cfa45f1ce4e91db1f874c37eb9d9b9c1dc6f30a39844bc9d12afa06be60\n"
     ]
    }
   ],
   "source": [
    "mac = hmac.new(key_1, message.encode(), hashlib.sha256).hexdigest()\n",
    "print(mac)"
   ]
  },
  {
   "cell_type": "markdown",
   "id": "ba0d6a09",
   "metadata": {},
   "source": [
    "**Apply HMAC-SHA256 to K2**"
   ]
  },
  {
   "cell_type": "code",
   "execution_count": 38,
   "id": "4fc5cac1",
   "metadata": {},
   "outputs": [
    {
     "name": "stdout",
     "output_type": "stream",
     "text": [
      "K2 before applying HMAC-SHA256: 337a7345637a6e35614539536736367670717732354f48724363436132384671\n",
      "K2  after applying HMAC-SHA256: 1c4d9d8241a0fdf711ec2d17d94c4ab466fe40ab786e0652ccf91127c32078df\n"
     ]
    }
   ],
   "source": [
    "new_key = hmac.new(key_1, key_2, hashlib.sha256).hexdigest()\n",
    "print(f'K2 before applying HMAC-SHA256: {key_2.hex()}')\n",
    "print(f'K2  after applying HMAC-SHA256: {new_key}')"
   ]
  },
  {
   "cell_type": "code",
   "execution_count": null,
   "id": "8c649276",
   "metadata": {},
   "outputs": [],
   "source": []
  }
 ],
 "metadata": {
  "kernelspec": {
   "display_name": "Python 3 (ipykernel)",
   "language": "python",
   "name": "python3"
  },
  "language_info": {
   "codemirror_mode": {
    "name": "ipython",
    "version": 3
   },
   "file_extension": ".py",
   "mimetype": "text/x-python",
   "name": "python",
   "nbconvert_exporter": "python",
   "pygments_lexer": "ipython3",
   "version": "3.9.7"
  }
 },
 "nbformat": 4,
 "nbformat_minor": 5
}
